{
 "cells": [
  {
   "cell_type": "code",
   "execution_count": 3,
   "metadata": {},
   "outputs": [],
   "source": [
    "#download the data\n",
    "#uncomment the below line\n",
    "#%mkdir dataset\n",
    "#%cd dataset\n",
    "#!wget http://images.cocodataset.org/zips/train2014.zip\n",
    "#!unzip train2014.zip\n",
    "#!rm train2014.zip\n",
    "#wget http://images.cocodataset.org/zips/val2014.zip\n",
    "#!unzip val2014.zip\n",
    "#!rm val2014.zip\n",
    "#!wget http://images.cocodataset.org/annotations/annotations_trainval2014.zip\n",
    "#!unzip annotations_trainval2014.zip\n",
    "#!rm annotations_trainval2014.zip\n",
    "#!wget http://cs.stanford.edu/people/karpathy/deepimagesent/caption_datasets.zip\n",
    "#unzip caption_datasets.zip\n",
    "#rm caption_datasets.zip\n",
    "#%cd .."
   ]
  },
  {
   "cell_type": "code",
   "execution_count": 4,
   "metadata": {},
   "outputs": [],
   "source": [
    "from process_input_files import create_input_files"
   ]
  },
  {
   "cell_type": "code",
   "execution_count": 6,
   "metadata": {},
   "outputs": [],
   "source": [
    "dataset='coco'\n",
    "karpathy_json_path='dataset/dataset_coco.json'\n",
    "image_folder='dataset/'\n",
    "captions_per_image=5\n",
    "min_word_freq=5\n",
    "output_folder='dataset/'"
   ]
  },
  {
   "cell_type": "code",
   "execution_count": null,
   "metadata": {},
   "outputs": [],
   "source": [
    "#prepocessed the image data\n",
    "#this peice of code is similer to Karparthy implemntation,\n",
    "create_input_files(dataset,karpathy_json_path,image_folder,captions_per_image,min_word_freq,output_folder)"
   ]
  }
 ],
 "metadata": {
  "kernelspec": {
   "display_name": "Python 3",
   "language": "python",
   "name": "python3"
  },
  "language_info": {
   "codemirror_mode": {
    "name": "ipython",
    "version": 3
   },
   "file_extension": ".py",
   "mimetype": "text/x-python",
   "name": "python",
   "nbconvert_exporter": "python",
   "pygments_lexer": "ipython3",
   "version": "3.7.6"
  }
 },
 "nbformat": 4,
 "nbformat_minor": 4
}
