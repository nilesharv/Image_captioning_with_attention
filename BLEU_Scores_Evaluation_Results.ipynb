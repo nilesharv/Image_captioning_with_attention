{
 "cells": [
  {
   "cell_type": "code",
   "execution_count": 1,
   "metadata": {},
   "outputs": [],
   "source": [
    "import torch.backends.cudnn as cudnn\n",
    "import torch\n",
    "import torchvision.transforms as transforms\n",
    "from nltk.translate.bleu_score import corpus_bleu\n",
    "import numpy as np\n",
    "import matplotlib.pyplot as plt\n",
    "%matplotlib inline\n",
    "device = torch.device(\"cuda\" if torch.cuda.is_available() else \"cpu\")"
   ]
  },
  {
   "cell_type": "code",
   "execution_count": 2,
   "metadata": {},
   "outputs": [],
   "source": [
    "from Evaluation import *\n",
    "from Model import *\n",
    "from Dataset import *\n",
    "from Inference import GenerateCaption,Visualize_Attention\n",
    "%load_ext autoreload\n",
    "%autoreload 2"
   ]
  },
  {
   "cell_type": "code",
   "execution_count": 3,
   "metadata": {},
   "outputs": [],
   "source": [
    "#get word map :\n",
    "word_map_path = '../dataset/WORDMAP_coco_5_cap_per_img_5_min_word_freq.json'\n",
    "data_folder ='../dataset/'\n",
    "data_name = 'coco_5_cap_per_img_5_min_word_freq'\n",
    "\n",
    "#Data For Visualization \n",
    "#Show, Attend and Tell: Neural Image Caption Generation with Visual Attention\n",
    "author_scores=(0.707,0.499,0.344,0.243) #  https://arxiv.org/abs/1502.03044 \n",
    "ind = np.arange(5) \n",
    "width = 0.35  "
   ]
  },
  {
   "cell_type": "code",
   "execution_count": 4,
   "metadata": {},
   "outputs": [],
   "source": [
    "# Load word map (word2ix)\n",
    "with open(word_map_path, 'r') as j:\n",
    "    word_map = json.load(j)"
   ]
  },
  {
   "cell_type": "code",
   "execution_count": 5,
   "metadata": {},
   "outputs": [
    {
     "data": {
      "text/plain": [
       "dict_keys(['epoch', 'epochs_since_improvement', 'bleu-4', 'encoder', 'decoder', 'encoder_optimizer', 'decoder_optimizer'])"
      ]
     },
     "execution_count": 5,
     "metadata": {},
     "output_type": "execute_result"
    }
   ],
   "source": [
    "#load pretrained_model\n",
    "model_data=torch.load(\"trained_model/BEST_checkpoint_coco_5_cap_per_img_5_min_word_freq.pth.tar\")\n",
    "model_data.keys()"
   ]
  },
  {
   "cell_type": "code",
   "execution_count": 6,
   "metadata": {},
   "outputs": [],
   "source": [
    "#load pretrained weights\n",
    "encoder=model_data['encoder']\n",
    "decoder=model_data['decoder']\n",
    "generatecap= GenerateCaption(encoder,decoder,50,word_map)"
   ]
  },
  {
   "cell_type": "code",
   "execution_count": 7,
   "metadata": {},
   "outputs": [],
   "source": [
    "normalize = transforms.Normalize(mean=[0.485, 0.456, 0.406],\n",
    "                                 std=[0.229, 0.224, 0.225])\n",
    "#create vaidation dataset\n",
    "valloader = torch.utils.data.DataLoader(\n",
    "        COCODataset(data_folder, data_name, 'VAL', transform=transforms.Compose([normalize])),\n",
    "        batch_size=1, shuffle=True, num_workers=1, pin_memory=True)\n",
    "\n",
    "#create test dataset\n",
    "testloader = torch.utils.data.DataLoader(\n",
    "        COCODataset(data_folder, data_name, 'TEST', transform=transforms.Compose([normalize])),\n",
    "        batch_size=1, shuffle=True, num_workers=1, pin_memory=True)"
   ]
  },
  {
   "cell_type": "code",
   "execution_count": 8,
   "metadata": {},
   "outputs": [
    {
     "name": "stderr",
     "output_type": "stream",
     "text": [
      "EVALUATING on Test Data: 100%|██████████| 25000/25000 [12:07<00:00, 34.34it/s]\n"
     ]
    }
   ],
   "source": [
    "#Generate Validation BELU Scores\n",
    "Val_scores=GetBlueScore(generatecap,valloader)"
   ]
  },
  {
   "cell_type": "code",
   "execution_count": 9,
   "metadata": {},
   "outputs": [
    {
     "name": "stderr",
     "output_type": "stream",
     "text": [
      "EVALUATING on Test Data: 100%|██████████| 25000/25000 [12:09<00:00, 34.29it/s]\n"
     ]
    }
   ],
   "source": [
    "#Generate Test BELU Scores\n",
    "Test_scores=GetBlueScore(generatecap,testloader)"
   ]
  },
  {
   "cell_type": "code",
   "execution_count": 12,
   "metadata": {},
   "outputs": [
    {
     "data": {
      "image/png": "[encoded data removed]",
      "text/plain": [
       "<Figure size 432x288 with 1 Axes>"
      ]
     },
     "metadata": {
      "needs_background": "light"
     },
     "output_type": "display_data"
    }
   ],
   "source": [
    "ind = np.arange(5) \n",
    "width = 0.35       \n",
    "plt.bar(ind , Val_scores, width,label='VAL-14x14x2048')\n",
    "plt.bar(ind + width, Test_scores, width,label='TEST-14x14x2048')\n",
    "\n",
    "plt.ylabel('BLEU Scores')\n",
    "plt.title('Validation vs Test Scores')\n",
    "\n",
    "plt.xticks(ind + width / 2, ('BLEU-1', 'BLEU-2', 'BLEU-3', 'BLEU-4', 'BLEU-5'))\n",
    "plt.legend(loc='best')\n",
    "plt.show()"
   ]
  },
  {
   "cell_type": "code",
   "execution_count": 11,
   "metadata": {},
   "outputs": [
    {
     "data": {
      "image/png": "[encoded data removed]",
      "text/plain": [
       "<Figure size 432x288 with 1 Axes>"
      ]
     },
     "metadata": {
      "needs_background": "light"
     },
     "output_type": "display_data"
    }
   ],
   "source": [
    "\n",
    "plt.bar(ind , Test_scores, width,label='TEST-14x14x2048')\n",
    "plt.bar(ind[:4] + width, author_scores, width,label='TEST-14x14x512')\n",
    "\n",
    "plt.ylabel('BLEU Scores')\n",
    "plt.title('Implemented model vs the papers \"Show, Attend and Tell\" ')\n",
    "\n",
    "plt.xticks(ind + width / 2, ('BLEU-1', 'BLEU-2', 'BLEU-3', 'BLEU-4', 'BLEU-5'))\n",
    "plt.legend(loc='best')\n",
    "plt.show()"
   ]
  },
  {
   "cell_type": "code",
   "execution_count": null,
   "metadata": {},
   "outputs": [],
   "source": []
  }
 ],
 "metadata": {
  "kernelspec": {
   "display_name": "Python 3",
   "language": "python",
   "name": "python3"
  },
  "language_info": {
   "codemirror_mode": {
    "name": "ipython",
    "version": 3
   },
   "file_extension": ".py",
   "mimetype": "text/x-python",
   "name": "python",
   "nbconvert_exporter": "python",
   "pygments_lexer": "ipython3",
   "version": "3.7.6"
  }
 },
 "nbformat": 4,
 "nbformat_minor": 4
}
