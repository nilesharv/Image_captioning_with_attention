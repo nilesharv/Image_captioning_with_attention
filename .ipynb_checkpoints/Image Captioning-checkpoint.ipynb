{
 "cells": [
  {
   "cell_type": "code",
   "execution_count": 1,
   "metadata": {},
   "outputs": [],
   "source": [
    "import torch.backends.cudnn as cudnn\n",
    "import torch\n",
    "import torchvision.transforms as transforms\n",
    "from nltk.translate.bleu_score import corpus_bleu\n",
    "device = torch.device(\"cuda\" if torch.cuda.is_available() else \"cpu\")"
   ]
  },
  {
   "cell_type": "code",
   "execution_count": 2,
   "metadata": {},
   "outputs": [],
   "source": [
    "from Evaluation import *\n",
    "from Model import *\n",
    "from Dataset import *\n",
    "from Inference import GenerateCaption,Visualize_Attention\n",
    "%load_ext autoreload\n",
    "%autoreload 2"
   ]
  },
  {
   "cell_type": "code",
   "execution_count": 3,
   "metadata": {},
   "outputs": [],
   "source": [
    "#get word map :\n",
    "word_map_path = '../dataset/WORDMAP_coco_5_cap_per_img_5_min_word_freq.json'\n",
    "data_folder ='../dataset/'\n",
    "data_name = 'coco_5_cap_per_img_5_min_word_freq'"
   ]
  },
  {
   "cell_type": "code",
   "execution_count": 4,
   "metadata": {},
   "outputs": [],
   "source": [
    "# Load word map (word2ix)\n",
    "with open(word_map_path, 'r') as j:\n",
    "    word_map = json.load(j)"
   ]
  },
  {
   "cell_type": "code",
   "execution_count": 5,
   "metadata": {},
   "outputs": [],
   "source": [
    "#Define model hyperparmeters\n",
    "encoder_dim = 2048\n",
    "emb_dim = 512  # dimension of word embeddings\n",
    "attention_dim = 512  # dimension of attention linear layers\n",
    "decoder_dim = 512  # dimension of decoder RNN\n",
    "vocab_size= len(word_map)"
   ]
  },
  {
   "cell_type": "code",
   "execution_count": 6,
   "metadata": {},
   "outputs": [],
   "source": [
    "#create encoder and Deocder\n",
    "encoder = ImageEncoder()\n",
    "decoder = DecoderWithSoftAttention(attention_dim,emb_dim,decoder_dim,vocab_size)\n",
    "decoder = decoder.to(device)\n",
    "encoder = encoder.to(device)"
   ]
  },
  {
   "cell_type": "code",
   "execution_count": 7,
   "metadata": {},
   "outputs": [
    {
     "data": {
      "text/plain": [
       "dict_keys(['Image_Encoder_weights', 'decoder_weights_with_attention'])"
      ]
     },
     "execution_count": 7,
     "metadata": {},
     "output_type": "execute_result"
    }
   ],
   "source": [
    "#load pretrain weights\n",
    "pretrain_weights = torch .load(\"../Tranformed_weights_from_pretrained.tar\")\n",
    "pretrain_weights.keys()"
   ]
  },
  {
   "cell_type": "code",
   "execution_count": 8,
   "metadata": {},
   "outputs": [
    {
     "data": {
      "text/plain": [
       "<All keys matched successfully>"
      ]
     },
     "execution_count": 8,
     "metadata": {},
     "output_type": "execute_result"
    }
   ],
   "source": [
    "#load pretrained weights\n",
    "encoder.load_state_dict(pretrain_weights['Image_Encoder_weights'])\n",
    "decoder.load_state_dict(pretrain_weights['decoder_weights_with_attention'])"
   ]
  },
  {
   "cell_type": "code",
   "execution_count": 9,
   "metadata": {},
   "outputs": [],
   "source": [
    "normalize = transforms.Normalize(mean=[0.485, 0.456, 0.406],\n",
    "                                 std=[0.229, 0.224, 0.225])\n",
    "#create test dataset\n",
    "loader = torch.utils.data.DataLoader(\n",
    "        COCODataset(data_folder, data_name, 'TEST', transform=transforms.Compose([normalize])),\n",
    "        batch_size=1, shuffle=True, num_workers=1, pin_memory=True)"
   ]
  },
  {
   "cell_type": "code",
   "execution_count": 10,
   "metadata": {},
   "outputs": [],
   "source": [
    "generatecap= GenerateCaption(encoder,decoder,50,word_map)"
   ]
  },
  {
   "cell_type": "code",
   "execution_count": 24,
   "metadata": {},
   "outputs": [
    {
     "name": "stderr",
     "output_type": "stream",
     "text": [
      "EVALUATING on Test Data: 100%|██████████| 25000/25000 [12:06<00:00, 34.42it/s]\n"
     ]
    }
   ],
   "source": [
    "bleu4,references,hypotheses=GetBlueScore(generatecap,loader)"
   ]
  },
  {
   "cell_type": "code",
   "execution_count": 25,
   "metadata": {},
   "outputs": [
    {
     "data": {
      "text/plain": [
       "0.3007267843439689"
      ]
     },
     "execution_count": 25,
     "metadata": {},
     "output_type": "execute_result"
    }
   ],
   "source": [
    "bleu4"
   ]
  },
  {
   "cell_type": "code",
   "execution_count": 31,
   "metadata": {},
   "outputs": [],
   "source": [
    "#calculate bleu1\n",
    "bleu1 = corpus_bleu(references,hypotheses,[1])\n",
    "#calculate bleu2\n",
    "bleu2 = corpus_bleu(references,hypotheses,[1/2,1/2])\n",
    "#calculate bleu3\n",
    "bleu3 = corpus_bleu(references,hypotheses,[1/3,1/3,1/3])\n",
    "#calculate bleu5\n",
    "bleu5 = corpus_bleu(references,hypotheses,[1/5,1/5,1/5,1/5,1/5])"
   ]
  },
  {
   "cell_type": "code",
   "execution_count": 32,
   "metadata": {},
   "outputs": [
    {
     "name": "stdout",
     "output_type": "stream",
     "text": [
      "0.7277417757047921 0.5552654702959628 0.4093804649178549 0.3007267843439689 0.22147819164396307\n"
     ]
    }
   ],
   "source": [
    "print(bleu1,bleu2,bleu3,bleu4,bleu5)"
   ]
  },
  {
   "cell_type": "code",
   "execution_count": null,
   "metadata": {},
   "outputs": [],
   "source": []
  }
 ],
 "metadata": {
  "kernelspec": {
   "display_name": "Python 3",
   "language": "python",
   "name": "python3"
  },
  "language_info": {
   "codemirror_mode": {
    "name": "ipython",
    "version": 3
   },
   "file_extension": ".py",
   "mimetype": "text/x-python",
   "name": "python",
   "nbconvert_exporter": "python",
   "pygments_lexer": "ipython3",
   "version": "3.7.6"
  }
 },
 "nbformat": 4,
 "nbformat_minor": 4
}
